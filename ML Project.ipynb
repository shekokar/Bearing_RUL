{
 "cells": [
  {
   "cell_type": "code",
   "execution_count": 1,
   "id": "covered-application",
   "metadata": {},
   "outputs": [],
   "source": [
    "import pandas as pd\n",
    "import pywt\n",
    "import numpy as np\n",
    "import matplotlib.pyplot as plt"
   ]
  },
  {
   "cell_type": "code",
   "execution_count": 2,
   "id": "meaningful-psychology",
   "metadata": {},
   "outputs": [],
   "source": [
    "data = pd.read_csv('acc_00001.csv',header=None)"
   ]
  },
  {
   "cell_type": "code",
   "execution_count": 3,
   "id": "printable-malta",
   "metadata": {},
   "outputs": [
    {
     "data": {
      "text/html": [
       "<div>\n",
       "<style scoped>\n",
       "    .dataframe tbody tr th:only-of-type {\n",
       "        vertical-align: middle;\n",
       "    }\n",
       "\n",
       "    .dataframe tbody tr th {\n",
       "        vertical-align: top;\n",
       "    }\n",
       "\n",
       "    .dataframe thead th {\n",
       "        text-align: right;\n",
       "    }\n",
       "</style>\n",
       "<table border=\"1\" class=\"dataframe\">\n",
       "  <thead>\n",
       "    <tr style=\"text-align: right;\">\n",
       "      <th></th>\n",
       "      <th>0</th>\n",
       "      <th>1</th>\n",
       "      <th>2</th>\n",
       "      <th>3</th>\n",
       "      <th>4</th>\n",
       "      <th>5</th>\n",
       "    </tr>\n",
       "  </thead>\n",
       "  <tbody>\n",
       "    <tr>\n",
       "      <th>0</th>\n",
       "      <td>9</td>\n",
       "      <td>39</td>\n",
       "      <td>39</td>\n",
       "      <td>65664.0</td>\n",
       "      <td>0.552</td>\n",
       "      <td>-0.146</td>\n",
       "    </tr>\n",
       "    <tr>\n",
       "      <th>1</th>\n",
       "      <td>9</td>\n",
       "      <td>39</td>\n",
       "      <td>39</td>\n",
       "      <td>65703.0</td>\n",
       "      <td>0.501</td>\n",
       "      <td>-0.480</td>\n",
       "    </tr>\n",
       "    <tr>\n",
       "      <th>2</th>\n",
       "      <td>9</td>\n",
       "      <td>39</td>\n",
       "      <td>39</td>\n",
       "      <td>65742.0</td>\n",
       "      <td>0.138</td>\n",
       "      <td>0.435</td>\n",
       "    </tr>\n",
       "    <tr>\n",
       "      <th>3</th>\n",
       "      <td>9</td>\n",
       "      <td>39</td>\n",
       "      <td>39</td>\n",
       "      <td>65781.0</td>\n",
       "      <td>-0.423</td>\n",
       "      <td>0.240</td>\n",
       "    </tr>\n",
       "    <tr>\n",
       "      <th>4</th>\n",
       "      <td>9</td>\n",
       "      <td>39</td>\n",
       "      <td>39</td>\n",
       "      <td>65820.0</td>\n",
       "      <td>-0.802</td>\n",
       "      <td>0.020</td>\n",
       "    </tr>\n",
       "    <tr>\n",
       "      <th>...</th>\n",
       "      <td>...</td>\n",
       "      <td>...</td>\n",
       "      <td>...</td>\n",
       "      <td>...</td>\n",
       "      <td>...</td>\n",
       "      <td>...</td>\n",
       "    </tr>\n",
       "    <tr>\n",
       "      <th>2555</th>\n",
       "      <td>9</td>\n",
       "      <td>39</td>\n",
       "      <td>39</td>\n",
       "      <td>165470.0</td>\n",
       "      <td>0.044</td>\n",
       "      <td>-0.094</td>\n",
       "    </tr>\n",
       "    <tr>\n",
       "      <th>2556</th>\n",
       "      <td>9</td>\n",
       "      <td>39</td>\n",
       "      <td>39</td>\n",
       "      <td>165510.0</td>\n",
       "      <td>-0.456</td>\n",
       "      <td>0.486</td>\n",
       "    </tr>\n",
       "    <tr>\n",
       "      <th>2557</th>\n",
       "      <td>9</td>\n",
       "      <td>39</td>\n",
       "      <td>39</td>\n",
       "      <td>165550.0</td>\n",
       "      <td>-0.885</td>\n",
       "      <td>-0.154</td>\n",
       "    </tr>\n",
       "    <tr>\n",
       "      <th>2558</th>\n",
       "      <td>9</td>\n",
       "      <td>39</td>\n",
       "      <td>39</td>\n",
       "      <td>165580.0</td>\n",
       "      <td>-0.230</td>\n",
       "      <td>-0.762</td>\n",
       "    </tr>\n",
       "    <tr>\n",
       "      <th>2559</th>\n",
       "      <td>9</td>\n",
       "      <td>39</td>\n",
       "      <td>39</td>\n",
       "      <td>165620.0</td>\n",
       "      <td>-0.134</td>\n",
       "      <td>0.541</td>\n",
       "    </tr>\n",
       "  </tbody>\n",
       "</table>\n",
       "<p>2560 rows × 6 columns</p>\n",
       "</div>"
      ],
      "text/plain": [
       "      0   1   2         3      4      5\n",
       "0     9  39  39   65664.0  0.552 -0.146\n",
       "1     9  39  39   65703.0  0.501 -0.480\n",
       "2     9  39  39   65742.0  0.138  0.435\n",
       "3     9  39  39   65781.0 -0.423  0.240\n",
       "4     9  39  39   65820.0 -0.802  0.020\n",
       "...  ..  ..  ..       ...    ...    ...\n",
       "2555  9  39  39  165470.0  0.044 -0.094\n",
       "2556  9  39  39  165510.0 -0.456  0.486\n",
       "2557  9  39  39  165550.0 -0.885 -0.154\n",
       "2558  9  39  39  165580.0 -0.230 -0.762\n",
       "2559  9  39  39  165620.0 -0.134  0.541\n",
       "\n",
       "[2560 rows x 6 columns]"
      ]
     },
     "execution_count": 3,
     "metadata": {},
     "output_type": "execute_result"
    }
   ],
   "source": [
    "data"
   ]
  },
  {
   "cell_type": "code",
   "execution_count": 4,
   "id": "standard-engineering",
   "metadata": {},
   "outputs": [],
   "source": [
    "h = data[4].to_numpy()\n",
    "v = data[5].to_numpy()"
   ]
  },
  {
   "cell_type": "code",
   "execution_count": 5,
   "id": "professional-renewal",
   "metadata": {},
   "outputs": [
    {
     "data": {
      "text/plain": [
       "(2560,)"
      ]
     },
     "execution_count": 5,
     "metadata": {},
     "output_type": "execute_result"
    }
   ],
   "source": [
    "x = np.sqrt(h**2 + v**2)\n",
    "x.shape"
   ]
  },
  {
   "cell_type": "code",
   "execution_count": 6,
   "id": "fiscal-pharmaceutical",
   "metadata": {},
   "outputs": [],
   "source": [
    "wp = pywt.WaveletPacket(data=x, wavelet='db1', mode='symmetric')"
   ]
  },
  {
   "cell_type": "code",
   "execution_count": 7,
   "id": "musical-convenience",
   "metadata": {},
   "outputs": [
    {
     "data": {
      "text/plain": [
       "11"
      ]
     },
     "execution_count": 7,
     "metadata": {},
     "output_type": "execute_result"
    }
   ],
   "source": [
    "wp.maxlevel"
   ]
  },
  {
   "cell_type": "code",
   "execution_count": 8,
   "id": "specified-trance",
   "metadata": {},
   "outputs": [
    {
     "data": {
      "text/plain": [
       "array([-0.77587981,  0.        ])"
      ]
     },
     "execution_count": 8,
     "metadata": {},
     "output_type": "execute_result"
    }
   ],
   "source": [
    "terminal_nodes = wp.get_leaf_nodes(True)\n",
    "terminal_nodes[5].data"
   ]
  },
  {
   "cell_type": "code",
   "execution_count": 17,
   "id": "indirect-spectacular",
   "metadata": {},
   "outputs": [],
   "source": [
    "Edn = np.array([terminal_node.data[0]**2 + terminal_node.data[1]**2 for terminal_node in terminal_nodes])"
   ]
  },
  {
   "cell_type": "code",
   "execution_count": 18,
   "id": "geological-orleans",
   "metadata": {},
   "outputs": [],
   "source": [
    "Et = 0\n",
    "for E in Edn:\n",
    "    Et = Et + E"
   ]
  },
  {
   "cell_type": "code",
   "execution_count": 19,
   "id": "expired-ethics",
   "metadata": {},
   "outputs": [],
   "source": [
    "Pdn = []\n",
    "for i in range(len(Edn)):\n",
    "    Pdn.append([terminal_nodes[i].data[0] ** 2 / Edn[i] , terminal_nodes[i].data[1] ** 2 / Edn[i] ])\n",
    "Pdn = np.array(Pdn)"
   ]
  },
  {
   "cell_type": "code",
   "execution_count": 20,
   "id": "union-advancement",
   "metadata": {},
   "outputs": [],
   "source": [
    "Pt = np.array([ E/Et for E in Edn])"
   ]
  },
  {
   "cell_type": "code",
   "execution_count": 25,
   "id": "noted-chocolate",
   "metadata": {},
   "outputs": [],
   "source": [
    "def renyi_entropy(P,alpha):\n",
    "    entropy = 1/(1-alpha) * np.log(np.sum(P**alpha))\n",
    "    return entropy"
   ]
  },
  {
   "cell_type": "code",
   "execution_count": 30,
   "id": "ordinary-sunset",
   "metadata": {},
   "outputs": [],
   "source": [
    "def divergence(P,Q,w,alpha):\n",
    "    d = renyi_entropy(((w*P)+(1-w)*Q) , alpha) - (w*renyi_entropy(P,alpha) + (1-w)*renyi_entropy(Q,alpha))\n",
    "    return d"
   ]
  },
  {
   "cell_type": "code",
   "execution_count": 31,
   "id": "tracked-personality",
   "metadata": {},
   "outputs": [],
   "source": [
    "def stat_complexity(Q0,P,P0,w,alpha):\n",
    "    sc = Q0 * divergence(P,P0,w,alpha) * renyi_entropy(P,alpha)\n",
    "    return sc"
   ]
  },
  {
   "cell_type": "code",
   "execution_count": null,
   "id": "similar-evidence",
   "metadata": {},
   "outputs": [],
   "source": []
  },
  {
   "cell_type": "code",
   "execution_count": null,
   "id": "differential-cleanup",
   "metadata": {},
   "outputs": [],
   "source": []
  }
 ],
 "metadata": {
  "kernelspec": {
   "display_name": "Python 3.8.5 64-bit",
   "language": "python",
   "name": "python38564bit25bc2e8580744ce68b60b1320e09e451"
  },
  "language_info": {
   "codemirror_mode": {
    "name": "ipython",
    "version": 3
   },
   "file_extension": ".py",
   "mimetype": "text/x-python",
   "name": "python",
   "nbconvert_exporter": "python",
   "pygments_lexer": "ipython3",
   "version": "3.8.5"
  }
 },
 "nbformat": 4,
 "nbformat_minor": 5
}
